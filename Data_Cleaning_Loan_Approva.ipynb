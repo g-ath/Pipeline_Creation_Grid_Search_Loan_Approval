{
 "cells": [
  {
   "cell_type": "markdown",
   "id": "300ce0bf-e51d-43c0-8039-f64fb62ffa1d",
   "metadata": {},
   "source": [
    "### Data Cleaning"
   ]
  },
  {
   "cell_type": "code",
   "execution_count": 1,
   "id": "64d8efc0-2fb3-4c69-830e-70a11cad9989",
   "metadata": {},
   "outputs": [
    {
     "data": {
      "text/html": [
       "<div>\n",
       "<style scoped>\n",
       "    .dataframe tbody tr th:only-of-type {\n",
       "        vertical-align: middle;\n",
       "    }\n",
       "\n",
       "    .dataframe tbody tr th {\n",
       "        vertical-align: top;\n",
       "    }\n",
       "\n",
       "    .dataframe thead th {\n",
       "        text-align: right;\n",
       "    }\n",
       "</style>\n",
       "<table border=\"1\" class=\"dataframe\">\n",
       "  <thead>\n",
       "    <tr style=\"text-align: right;\">\n",
       "      <th></th>\n",
       "      <th>Gender</th>\n",
       "      <th>Married</th>\n",
       "      <th>Dependents</th>\n",
       "      <th>Education</th>\n",
       "      <th>Self_Employed</th>\n",
       "      <th>ApplicantIncome</th>\n",
       "      <th>CoapplicantIncome</th>\n",
       "      <th>LoanAmount</th>\n",
       "      <th>Loan_Amount_Term</th>\n",
       "      <th>Credit_History</th>\n",
       "      <th>Property_Area</th>\n",
       "      <th>Loan_Status</th>\n",
       "    </tr>\n",
       "  </thead>\n",
       "  <tbody>\n",
       "    <tr>\n",
       "      <th>0</th>\n",
       "      <td>Male</td>\n",
       "      <td>No</td>\n",
       "      <td>0</td>\n",
       "      <td>Graduate</td>\n",
       "      <td>No</td>\n",
       "      <td>5849</td>\n",
       "      <td>0.0</td>\n",
       "      <td>NaN</td>\n",
       "      <td>360.0</td>\n",
       "      <td>1.0</td>\n",
       "      <td>Urban</td>\n",
       "      <td>Y</td>\n",
       "    </tr>\n",
       "    <tr>\n",
       "      <th>1</th>\n",
       "      <td>Male</td>\n",
       "      <td>Yes</td>\n",
       "      <td>1</td>\n",
       "      <td>Graduate</td>\n",
       "      <td>No</td>\n",
       "      <td>4583</td>\n",
       "      <td>1508.0</td>\n",
       "      <td>128.0</td>\n",
       "      <td>360.0</td>\n",
       "      <td>1.0</td>\n",
       "      <td>Rural</td>\n",
       "      <td>N</td>\n",
       "    </tr>\n",
       "    <tr>\n",
       "      <th>2</th>\n",
       "      <td>Male</td>\n",
       "      <td>Yes</td>\n",
       "      <td>0</td>\n",
       "      <td>Graduate</td>\n",
       "      <td>Yes</td>\n",
       "      <td>3000</td>\n",
       "      <td>0.0</td>\n",
       "      <td>66.0</td>\n",
       "      <td>360.0</td>\n",
       "      <td>1.0</td>\n",
       "      <td>Urban</td>\n",
       "      <td>Y</td>\n",
       "    </tr>\n",
       "    <tr>\n",
       "      <th>3</th>\n",
       "      <td>Male</td>\n",
       "      <td>Yes</td>\n",
       "      <td>0</td>\n",
       "      <td>Not Graduate</td>\n",
       "      <td>No</td>\n",
       "      <td>2583</td>\n",
       "      <td>2358.0</td>\n",
       "      <td>120.0</td>\n",
       "      <td>360.0</td>\n",
       "      <td>1.0</td>\n",
       "      <td>Urban</td>\n",
       "      <td>Y</td>\n",
       "    </tr>\n",
       "    <tr>\n",
       "      <th>4</th>\n",
       "      <td>Male</td>\n",
       "      <td>No</td>\n",
       "      <td>0</td>\n",
       "      <td>Graduate</td>\n",
       "      <td>No</td>\n",
       "      <td>6000</td>\n",
       "      <td>0.0</td>\n",
       "      <td>141.0</td>\n",
       "      <td>360.0</td>\n",
       "      <td>1.0</td>\n",
       "      <td>Urban</td>\n",
       "      <td>Y</td>\n",
       "    </tr>\n",
       "  </tbody>\n",
       "</table>\n",
       "</div>"
      ],
      "text/plain": [
       "  Gender Married Dependents     Education Self_Employed  ApplicantIncome  \\\n",
       "0   Male      No          0      Graduate            No             5849   \n",
       "1   Male     Yes          1      Graduate            No             4583   \n",
       "2   Male     Yes          0      Graduate           Yes             3000   \n",
       "3   Male     Yes          0  Not Graduate            No             2583   \n",
       "4   Male      No          0      Graduate            No             6000   \n",
       "\n",
       "   CoapplicantIncome  LoanAmount  Loan_Amount_Term  Credit_History  \\\n",
       "0                0.0         NaN             360.0             1.0   \n",
       "1             1508.0       128.0             360.0             1.0   \n",
       "2                0.0        66.0             360.0             1.0   \n",
       "3             2358.0       120.0             360.0             1.0   \n",
       "4                0.0       141.0             360.0             1.0   \n",
       "\n",
       "  Property_Area Loan_Status  \n",
       "0         Urban           Y  \n",
       "1         Rural           N  \n",
       "2         Urban           Y  \n",
       "3         Urban           Y  \n",
       "4         Urban           Y  "
      ]
     },
     "execution_count": 1,
     "metadata": {},
     "output_type": "execute_result"
    }
   ],
   "source": [
    "import pandas as pd\n",
    "import numpy as np\n",
    "from matplotlib import pyplot as plt\n",
    "\n",
    "df = pd.read_csv(\"data.csv\") \n",
    "df = df.drop('Loan_ID', axis = 1)\n",
    "df.head()"
   ]
  },
  {
   "cell_type": "code",
   "execution_count": 2,
   "id": "6c907023-54ac-43f9-b0ce-9b82d19fc20f",
   "metadata": {},
   "outputs": [],
   "source": [
    "df['Loan_Amount_Term'] = df['Loan_Amount_Term'].fillna(0)"
   ]
  },
  {
   "cell_type": "code",
   "execution_count": 3,
   "id": "4bfe1d62-c642-42b0-bd04-089d098a84ab",
   "metadata": {},
   "outputs": [
    {
     "data": {
      "text/plain": [
       "0"
      ]
     },
     "execution_count": 3,
     "metadata": {},
     "output_type": "execute_result"
    }
   ],
   "source": [
    "df['Loan_Amount_Term'].isnull().sum()"
   ]
  },
  {
   "cell_type": "code",
   "execution_count": 4,
   "id": "99206123-383c-40d4-a324-68cd180da2b4",
   "metadata": {},
   "outputs": [
    {
     "data": {
      "text/plain": [
       "0    360.0\n",
       "Name: Loan_Amount_Term, dtype: float64"
      ]
     },
     "execution_count": 4,
     "metadata": {},
     "output_type": "execute_result"
    }
   ],
   "source": [
    "mode_term = df['Loan_Amount_Term'].mode()\n",
    "mode_term"
   ]
  },
  {
   "cell_type": "code",
   "execution_count": 5,
   "id": "cffcd2b5-48ec-4f5d-8fd9-c79cd09ab222",
   "metadata": {},
   "outputs": [],
   "source": [
    "df['Loan_Amount_Term'] = df['Loan_Amount_Term'].replace(0, 360) "
   ]
  },
  {
   "cell_type": "markdown",
   "id": "58a4e2dd-3c9b-47a4-93bc-78fc1dfc9624",
   "metadata": {},
   "source": [
    "### Extreme Values - Standardization"
   ]
  },
  {
   "cell_type": "markdown",
   "id": "6bf8acab-e60f-4a76-a168-e803fecfb6b3",
   "metadata": {},
   "source": [
    "Loan Amount Manipulation"
   ]
  },
  {
   "cell_type": "code",
   "execution_count": 6,
   "id": "866fe89f-0f27-434a-afa3-f0d1799bddeb",
   "metadata": {},
   "outputs": [
    {
     "data": {
      "text/plain": [
       "<AxesSubplot:>"
      ]
     },
     "execution_count": 6,
     "metadata": {},
     "output_type": "execute_result"
    },
    {
     "data": {
      "image/png": "[encoded data removed]",
      "text/plain": [
       "<Figure size 432x288 with 1 Axes>"
      ]
     },
     "metadata": {
      "needs_background": "light"
     },
     "output_type": "display_data"
    }
   ],
   "source": [
    "# Hist Pre log\n",
    "df['LoanAmount'].hist()"
   ]
  },
  {
   "cell_type": "code",
   "execution_count": 7,
   "id": "2cc039b6-c6f1-4d97-bbcd-60778e6881fa",
   "metadata": {},
   "outputs": [],
   "source": [
    "dflog = df.copy()"
   ]
  },
  {
   "cell_type": "code",
   "execution_count": 8,
   "id": "cd2a4e44-431f-4f72-a799-a5bf32435ca8",
   "metadata": {},
   "outputs": [],
   "source": [
    "dflog['LoanAmount_Log'] = np.log2(dflog['LoanAmount'])"
   ]
  },
  {
   "cell_type": "code",
   "execution_count": 9,
   "id": "e84726e4-e6b3-4045-87c7-9e1c4f43936a",
   "metadata": {},
   "outputs": [
    {
     "data": {
      "text/plain": [
       "0.7287659596010903"
      ]
     },
     "execution_count": 9,
     "metadata": {},
     "output_type": "execute_result"
    }
   ],
   "source": [
    "dflog['LoanAmount_Log'].std()"
   ]
  },
  {
   "cell_type": "code",
   "execution_count": 10,
   "id": "3b378a33-25de-4c75-827d-757156beb713",
   "metadata": {},
   "outputs": [
    {
     "data": {
      "text/plain": [
       "<AxesSubplot:>"
      ]
     },
     "execution_count": 10,
     "metadata": {},
     "output_type": "execute_result"
    },
    {
     "data": {
      "image/png": "[encoded data removed]",
      "text/plain": [
       "<Figure size 432x288 with 1 Axes>"
      ]
     },
     "metadata": {
      "needs_background": "light"
     },
     "output_type": "display_data"
    }
   ],
   "source": [
    "# Distribution of Loan Amount after log \n",
    "dflog['LoanAmount_Log'].hist()"
   ]
  },
  {
   "cell_type": "code",
   "execution_count": 11,
   "id": "9eef9b49-2240-4c66-9cb5-379a87b4d75e",
   "metadata": {},
   "outputs": [
    {
     "data": {
      "text/plain": [
       "<AxesSubplot:>"
      ]
     },
     "execution_count": 11,
     "metadata": {},
     "output_type": "execute_result"
    },
    {
     "data": {
      "image/png": "[encoded data removed]",
      "text/plain": [
       "<Figure size 432x288 with 1 Axes>"
      ]
     },
     "metadata": {
      "needs_background": "light"
     },
     "output_type": "display_data"
    }
   ],
   "source": [
    "dflog.boxplot(column = 'LoanAmount_Log' )"
   ]
  },
  {
   "cell_type": "code",
   "execution_count": 12,
   "id": "29809d95-1f00-4ae0-89a8-fa7e54de5569",
   "metadata": {},
   "outputs": [
    {
     "data": {
      "text/plain": [
       "7.007810628047801"
      ]
     },
     "execution_count": 12,
     "metadata": {},
     "output_type": "execute_result"
    }
   ],
   "source": [
    "mean_loan = dflog['LoanAmount_Log'].mean()\n",
    "mean_loan"
   ]
  },
  {
   "cell_type": "code",
   "execution_count": 13,
   "id": "38fd5868-5da4-4ad5-842d-3061e3c0c39e",
   "metadata": {},
   "outputs": [],
   "source": [
    "dflog['LoanAmount_Log'] = dflog['LoanAmount_Log'].fillna(0)"
   ]
  },
  {
   "cell_type": "code",
   "execution_count": 14,
   "id": "a3861b6b-3b8d-4730-9361-73963d27f0cc",
   "metadata": {},
   "outputs": [],
   "source": [
    "dflog['LoanAmount_Log'] = dflog['LoanAmount_Log'].replace(0, mean_loan) "
   ]
  },
  {
   "cell_type": "markdown",
   "id": "8d92fe49-9553-46cb-be3f-69190b62e547",
   "metadata": {},
   "source": [
    "Income Amount Manipulation"
   ]
  },
  {
   "cell_type": "code",
   "execution_count": 15,
   "id": "0b5f027a-f95f-4419-b503-6278ee16a062",
   "metadata": {},
   "outputs": [
    {
     "data": {
      "text/plain": [
       "<AxesSubplot:>"
      ]
     },
     "execution_count": 15,
     "metadata": {},
     "output_type": "execute_result"
    },
    {
     "data": {
      "image/png": "[encoded data removed]",
      "text/plain": [
       "<Figure size 432x288 with 1 Axes>"
      ]
     },
     "metadata": {
      "needs_background": "light"
     },
     "output_type": "display_data"
    }
   ],
   "source": [
    "dflog['TotalIncome'] = dflog['ApplicantIncome'] + dflog['CoapplicantIncome']\n",
    "dflog['TotalIncome_Log'] = np.log2(dflog['TotalIncome'])\n",
    "dflog['TotalIncome_Log'].hist()"
   ]
  },
  {
   "cell_type": "code",
   "execution_count": 16,
   "id": "cee2415e-5ac2-40db-8ba0-7c9ec9583397",
   "metadata": {},
   "outputs": [
    {
     "data": {
      "text/plain": [
       "0.7864152838057724"
      ]
     },
     "execution_count": 16,
     "metadata": {},
     "output_type": "execute_result"
    }
   ],
   "source": [
    "dflog['TotalIncome_Log'].std()"
   ]
  },
  {
   "cell_type": "code",
   "execution_count": 17,
   "id": "0379dea1-2744-4926-b640-94d363c54c18",
   "metadata": {},
   "outputs": [],
   "source": [
    "dflog = dflog.drop(['TotalIncome', 'LoanAmount'], axis = 1)"
   ]
  },
  {
   "cell_type": "markdown",
   "id": "7e40d380-ce09-4220-9d32-0d1f52b5ce91",
   "metadata": {},
   "source": [
    "Gender Manipulation"
   ]
  },
  {
   "cell_type": "code",
   "execution_count": 18,
   "id": "e61a6c7b-91c4-4f7f-a1ac-124975d87e24",
   "metadata": {},
   "outputs": [
    {
     "data": {
      "text/plain": [
       "0    Male\n",
       "Name: Gender, dtype: object"
      ]
     },
     "execution_count": 18,
     "metadata": {},
     "output_type": "execute_result"
    }
   ],
   "source": [
    "mode_Gender = dflog['Gender'].mode()\n",
    "mode_Gender"
   ]
  },
  {
   "cell_type": "code",
   "execution_count": 19,
   "id": "eec0863f-f408-493b-baff-8242bff4b7b9",
   "metadata": {},
   "outputs": [],
   "source": [
    "dflog['Dependents'] =dflog['Dependents'].fillna('0')\n",
    "dflog['Gender'] =dflog['Gender'].fillna('mode_Gender')"
   ]
  },
  {
   "cell_type": "code",
   "execution_count": 32,
   "id": "25c8c0c6-5f52-4325-8e33-f6e701ffda19",
   "metadata": {},
   "outputs": [],
   "source": [
    "df = dflog.dropna()"
   ]
  },
  {
   "cell_type": "code",
   "execution_count": 33,
   "id": "65a1c607-ec70-4034-99d1-ebe1b942d068",
   "metadata": {},
   "outputs": [
    {
     "data": {
      "text/plain": [
       "Gender               0\n",
       "Married              0\n",
       "Dependents           0\n",
       "Education            0\n",
       "Self_Employed        0\n",
       "ApplicantIncome      0\n",
       "CoapplicantIncome    0\n",
       "Loan_Amount_Term     0\n",
       "Credit_History       0\n",
       "Property_Area        0\n",
       "Loan_Status          0\n",
       "LoanAmount_Log       0\n",
       "TotalIncome_Log      0\n",
       "dtype: int64"
      ]
     },
     "execution_count": 33,
     "metadata": {},
     "output_type": "execute_result"
    }
   ],
   "source": [
    "df.isnull().sum()"
   ]
  },
  {
   "cell_type": "markdown",
   "id": "d6eaf067-8301-401f-a74f-d34d5aa93dce",
   "metadata": {},
   "source": [
    "Dummy Variable Creation"
   ]
  },
  {
   "cell_type": "code",
   "execution_count": 34,
   "id": "9c7f8597-c4ae-41e8-a775-ffe381b81b61",
   "metadata": {
    "collapsed": true,
    "jupyter": {
     "outputs_hidden": true
    },
    "tags": []
   },
   "outputs": [
    {
     "name": "stderr",
     "output_type": "stream",
     "text": [
      "/var/folders/p7/h49crc791_s32gzljswx64y00000gn/T/ipykernel_29928/1058769562.py:1: SettingWithCopyWarning: \n",
      "A value is trying to be set on a copy of a slice from a DataFrame.\n",
      "Try using .loc[row_indexer,col_indexer] = value instead\n",
      "\n",
      "See the caveats in the documentation: https://pandas.pydata.org/pandas-docs/stable/user_guide/indexing.html#returning-a-view-versus-a-copy\n",
      "  df['Loan_Status'] = df['Loan_Status'].apply(lambda x: 0 if x=='N' else 1)\n",
      "/var/folders/p7/h49crc791_s32gzljswx64y00000gn/T/ipykernel_29928/1058769562.py:2: SettingWithCopyWarning: \n",
      "A value is trying to be set on a copy of a slice from a DataFrame.\n",
      "Try using .loc[row_indexer,col_indexer] = value instead\n",
      "\n",
      "See the caveats in the documentation: https://pandas.pydata.org/pandas-docs/stable/user_guide/indexing.html#returning-a-view-versus-a-copy\n",
      "  df['Gender'] = df['Gender'].apply(lambda x: 0 if x=='Male' else 1)\n",
      "/var/folders/p7/h49crc791_s32gzljswx64y00000gn/T/ipykernel_29928/1058769562.py:3: SettingWithCopyWarning: \n",
      "A value is trying to be set on a copy of a slice from a DataFrame.\n",
      "Try using .loc[row_indexer,col_indexer] = value instead\n",
      "\n",
      "See the caveats in the documentation: https://pandas.pydata.org/pandas-docs/stable/user_guide/indexing.html#returning-a-view-versus-a-copy\n",
      "  df['Education'] = df['Education'].apply(lambda x: 0 if x=='Graduate' else 1)\n",
      "/var/folders/p7/h49crc791_s32gzljswx64y00000gn/T/ipykernel_29928/1058769562.py:4: SettingWithCopyWarning: \n",
      "A value is trying to be set on a copy of a slice from a DataFrame.\n",
      "Try using .loc[row_indexer,col_indexer] = value instead\n",
      "\n",
      "See the caveats in the documentation: https://pandas.pydata.org/pandas-docs/stable/user_guide/indexing.html#returning-a-view-versus-a-copy\n",
      "  df['Self_Employed'] = df['Self_Employed'].apply(lambda x: 0 if x=='No' else 1)\n",
      "/var/folders/p7/h49crc791_s32gzljswx64y00000gn/T/ipykernel_29928/1058769562.py:5: SettingWithCopyWarning: \n",
      "A value is trying to be set on a copy of a slice from a DataFrame.\n",
      "Try using .loc[row_indexer,col_indexer] = value instead\n",
      "\n",
      "See the caveats in the documentation: https://pandas.pydata.org/pandas-docs/stable/user_guide/indexing.html#returning-a-view-versus-a-copy\n",
      "  df['Married'] = df['Married'].apply(lambda x: 0 if x=='Yes' else 1)\n",
      "/var/folders/p7/h49crc791_s32gzljswx64y00000gn/T/ipykernel_29928/1058769562.py:6: SettingWithCopyWarning: \n",
      "A value is trying to be set on a copy of a slice from a DataFrame.\n",
      "Try using .loc[row_indexer,col_indexer] = value instead\n",
      "\n",
      "See the caveats in the documentation: https://pandas.pydata.org/pandas-docs/stable/user_guide/indexing.html#returning-a-view-versus-a-copy\n",
      "  df['Dependents'] = df['Dependents'].replace('3+', '3')\n"
     ]
    }
   ],
   "source": [
    "df['Loan_Status'] = df['Loan_Status'].apply(lambda x: 0 if x=='N' else 1)\n",
    "df['Gender'] = df['Gender'].apply(lambda x: 0 if x=='Male' else 1)\n",
    "df['Education'] = df['Education'].apply(lambda x: 0 if x=='Graduate' else 1)\n",
    "df['Self_Employed'] = df['Self_Employed'].apply(lambda x: 0 if x=='No' else 1)\n",
    "df['Married'] = df['Married'].apply(lambda x: 0 if x=='Yes' else 1)\n",
    "df['Dependents'] = df['Dependents'].replace('3+', '3')"
   ]
  },
  {
   "cell_type": "code",
   "execution_count": 35,
   "id": "e1707875-78ec-45fc-8829-cabea717e4b6",
   "metadata": {
    "tags": []
   },
   "outputs": [],
   "source": [
    "df2 = pd.get_dummies(df['Property_Area'])"
   ]
  },
  {
   "cell_type": "code",
   "execution_count": 36,
   "id": "bc864a75-65c0-437f-b8cb-88aa4994f1bd",
   "metadata": {
    "tags": []
   },
   "outputs": [],
   "source": [
    "df = df.join(df2)"
   ]
  },
  {
   "cell_type": "code",
   "execution_count": 37,
   "id": "0f2bd507-1640-48bc-b145-3143265e9ab1",
   "metadata": {},
   "outputs": [],
   "source": [
    "df = df.drop(['Property_Area', 'ApplicantIncome', 'CoapplicantIncome'], axis = 1)"
   ]
  },
  {
   "cell_type": "code",
   "execution_count": 38,
   "id": "e2a81b82-12fc-4751-9e96-25295facc972",
   "metadata": {},
   "outputs": [],
   "source": [
    "df['Credit_History'] = df['Credit_History'].astype('int64')"
   ]
  },
  {
   "cell_type": "code",
   "execution_count": 39,
   "id": "07c5a178-f8ae-49f6-a4e6-38ee8ae5e661",
   "metadata": {},
   "outputs": [],
   "source": [
    "df['Dependents'] = df['Dependents'].astype('int64')"
   ]
  },
  {
   "cell_type": "code",
   "execution_count": 40,
   "id": "e1d83757-3f9a-4828-b214-c60fef76c326",
   "metadata": {},
   "outputs": [
    {
     "data": {
      "text/html": [
       "<div>\n",
       "<style scoped>\n",
       "    .dataframe tbody tr th:only-of-type {\n",
       "        vertical-align: middle;\n",
       "    }\n",
       "\n",
       "    .dataframe tbody tr th {\n",
       "        vertical-align: top;\n",
       "    }\n",
       "\n",
       "    .dataframe thead th {\n",
       "        text-align: right;\n",
       "    }\n",
       "</style>\n",
       "<table border=\"1\" class=\"dataframe\">\n",
       "  <thead>\n",
       "    <tr style=\"text-align: right;\">\n",
       "      <th></th>\n",
       "      <th>Gender</th>\n",
       "      <th>Married</th>\n",
       "      <th>Dependents</th>\n",
       "      <th>Education</th>\n",
       "      <th>Self_Employed</th>\n",
       "      <th>Loan_Amount_Term</th>\n",
       "      <th>Credit_History</th>\n",
       "      <th>Loan_Status</th>\n",
       "      <th>LoanAmount_Log</th>\n",
       "      <th>TotalIncome_Log</th>\n",
       "      <th>Rural</th>\n",
       "      <th>Semiurban</th>\n",
       "      <th>Urban</th>\n",
       "    </tr>\n",
       "  </thead>\n",
       "  <tbody>\n",
       "    <tr>\n",
       "      <th>0</th>\n",
       "      <td>0</td>\n",
       "      <td>1</td>\n",
       "      <td>0</td>\n",
       "      <td>0</td>\n",
       "      <td>0</td>\n",
       "      <td>360.0</td>\n",
       "      <td>1</td>\n",
       "      <td>1</td>\n",
       "      <td>7.007811</td>\n",
       "      <td>12.513974</td>\n",
       "      <td>0</td>\n",
       "      <td>0</td>\n",
       "      <td>1</td>\n",
       "    </tr>\n",
       "    <tr>\n",
       "      <th>1</th>\n",
       "      <td>0</td>\n",
       "      <td>0</td>\n",
       "      <td>1</td>\n",
       "      <td>0</td>\n",
       "      <td>0</td>\n",
       "      <td>360.0</td>\n",
       "      <td>1</td>\n",
       "      <td>0</td>\n",
       "      <td>7.000000</td>\n",
       "      <td>12.572463</td>\n",
       "      <td>1</td>\n",
       "      <td>0</td>\n",
       "      <td>0</td>\n",
       "    </tr>\n",
       "    <tr>\n",
       "      <th>2</th>\n",
       "      <td>0</td>\n",
       "      <td>0</td>\n",
       "      <td>0</td>\n",
       "      <td>0</td>\n",
       "      <td>1</td>\n",
       "      <td>360.0</td>\n",
       "      <td>1</td>\n",
       "      <td>1</td>\n",
       "      <td>6.044394</td>\n",
       "      <td>11.550747</td>\n",
       "      <td>0</td>\n",
       "      <td>0</td>\n",
       "      <td>1</td>\n",
       "    </tr>\n",
       "    <tr>\n",
       "      <th>3</th>\n",
       "      <td>0</td>\n",
       "      <td>0</td>\n",
       "      <td>0</td>\n",
       "      <td>1</td>\n",
       "      <td>0</td>\n",
       "      <td>360.0</td>\n",
       "      <td>1</td>\n",
       "      <td>1</td>\n",
       "      <td>6.906891</td>\n",
       "      <td>12.270587</td>\n",
       "      <td>0</td>\n",
       "      <td>0</td>\n",
       "      <td>1</td>\n",
       "    </tr>\n",
       "    <tr>\n",
       "      <th>4</th>\n",
       "      <td>0</td>\n",
       "      <td>1</td>\n",
       "      <td>0</td>\n",
       "      <td>0</td>\n",
       "      <td>0</td>\n",
       "      <td>360.0</td>\n",
       "      <td>1</td>\n",
       "      <td>1</td>\n",
       "      <td>7.139551</td>\n",
       "      <td>12.550747</td>\n",
       "      <td>0</td>\n",
       "      <td>0</td>\n",
       "      <td>1</td>\n",
       "    </tr>\n",
       "  </tbody>\n",
       "</table>\n",
       "</div>"
      ],
      "text/plain": [
       "   Gender  Married  Dependents  Education  Self_Employed  Loan_Amount_Term  \\\n",
       "0       0        1           0          0              0             360.0   \n",
       "1       0        0           1          0              0             360.0   \n",
       "2       0        0           0          0              1             360.0   \n",
       "3       0        0           0          1              0             360.0   \n",
       "4       0        1           0          0              0             360.0   \n",
       "\n",
       "   Credit_History  Loan_Status  LoanAmount_Log  TotalIncome_Log  Rural  \\\n",
       "0               1            1        7.007811        12.513974      0   \n",
       "1               1            0        7.000000        12.572463      1   \n",
       "2               1            1        6.044394        11.550747      0   \n",
       "3               1            1        6.906891        12.270587      0   \n",
       "4               1            1        7.139551        12.550747      0   \n",
       "\n",
       "   Semiurban  Urban  \n",
       "0          0      1  \n",
       "1          0      0  \n",
       "2          0      1  \n",
       "3          0      1  \n",
       "4          0      1  "
      ]
     },
     "execution_count": 40,
     "metadata": {},
     "output_type": "execute_result"
    }
   ],
   "source": [
    "df.head()"
   ]
  },
  {
   "cell_type": "code",
   "execution_count": 41,
   "id": "e4eca21f-9853-458f-822c-f98c249abaa8",
   "metadata": {},
   "outputs": [],
   "source": [
    "df.to_csv('Cleaned_Loaner_Data.csv')"
   ]
  },
  {
   "cell_type": "code",
   "execution_count": null,
   "id": "13932c12-90af-42d2-8320-6a74e1d9e7c9",
   "metadata": {},
   "outputs": [],
   "source": []
  }
 ],
 "metadata": {
  "kernelspec": {
   "display_name": "Python 3 (ipykernel)",
   "language": "python",
   "name": "python3"
  },
  "language_info": {
   "codemirror_mode": {
    "name": "ipython",
    "version": 3
   },
   "file_extension": ".py",
   "mimetype": "text/x-python",
   "name": "python",
   "nbconvert_exporter": "python",
   "pygments_lexer": "ipython3",
   "version": "3.8.13"
  }
 },
 "nbformat": 4,
 "nbformat_minor": 5
}
